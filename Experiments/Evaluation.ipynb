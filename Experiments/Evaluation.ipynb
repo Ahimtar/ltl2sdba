{
 "cells": [
  {
   "cell_type": "markdown",
   "metadata": {},
   "source": [
    "# Experiments for LICS paper"
   ]
  },
  {
   "cell_type": "code",
   "execution_count": 1,
   "metadata": {},
   "outputs": [
    {
     "name": "stdout",
     "output_type": "stream",
     "text": [
      "LTL3BA 1.1.3\n",
      "LTL3HOA 1.0.1\n",
      "ltl2tgba (spot 2.2.2.dev)\n",
      "\n",
      "Copyright (C) 2017  Laboratoire de Recherche et Développement de l'Epita.\n",
      "License GPLv3+: GNU GPL version 3 or later <http://gnu.org/licenses/gpl.html>.\n",
      "This is free software: you are free to change and redistribute it.\n",
      "There is NO WARRANTY, to the extent permitted by law.\n",
      "ltlcross (spot 2.2.2.dev)\n",
      "\n",
      "Copyright (C) 2017  Laboratoire de Recherche et Développement de l'Epita.\n",
      "License GPLv3+: GNU GPL version 3 or later <http://gnu.org/licenses/gpl.html>.\n",
      "This is free software: you are free to change and redistribute it.\n",
      "There is NO WARRANTY, to the extent permitted by law.\n"
     ]
    }
   ],
   "source": [
    "%%bash\n",
    "ltl3ba -v\n",
    "ltl3hoa -v\n",
    "ltl2tgba --version\n",
    "ltlcross --version"
   ]
  },
  {
   "cell_type": "code",
   "execution_count": 2,
   "metadata": {
    "collapsed": true
   },
   "outputs": [],
   "source": [
    "from ltlcross_runner import LtlcrossRunner\n",
    "from experiments_lib import has_f_merging, has_g_merging\n",
    "from IPython.display import display\n",
    "import pandas as pd\n",
    "import spot\n",
    "import sys\n",
    "spot.setup(show_default='.a')"
   ]
  },
  {
   "cell_type": "code",
   "execution_count": 3,
   "metadata": {},
   "outputs": [],
   "source": [
    "def generate(n=100,func=(lambda x: True),filename=None):\n",
    "    if filename is None:\n",
    "        file_h = sys.stdout\n",
    "    else:\n",
    "        file_h = open(filename,'w')\n",
    "    f = spot.randltl(['a','b','c','d'],\n",
    "                     ltl_priorities='M=0,W=0,xor=0',\n",
    "                     simplify=3,tree_size=15).relabel_bse(spot.Abc)\\\n",
    "                     .unabbreviate('WM')\n",
    "    i = 0\n",
    "    printed = set()\n",
    "    while(i < n):\n",
    "        form = next(f)\n",
    "        #form = spot.negative_normal_form(form)\n",
    "        if form in printed:\n",
    "            continue\n",
    "        if func(form) and not form.is_tt() and not form.is_ff():\n",
    "            print(form,file=file_h)\n",
    "            printed.add(form)\n",
    "            i += 1"
   ]
  },
  {
   "cell_type": "markdown",
   "metadata": {},
   "source": [
    "## Impact of F- and G-merging"
   ]
  },
  {
   "cell_type": "code",
   "execution_count": 4,
   "metadata": {},
   "outputs": [],
   "source": [
    "rerun = False"
   ]
  },
  {
   "cell_type": "markdown",
   "metadata": {},
   "source": [
    "### Generating Formulae"
   ]
  },
  {
   "cell_type": "markdown",
   "metadata": {},
   "source": [
    "We generate random formulae that are both F- and G- mergable.  We use the strict control for merging (a formula is generated only if some states will be merged) so we can emphasise the effect of the modified construction. "
   ]
  },
  {
   "cell_type": "code",
   "execution_count": 5,
   "metadata": {},
   "outputs": [],
   "source": [
    "MI_f = 'formulae/merging_impact.ltl'\n",
    "generate(1000,lambda x : has_g_merging(x) and has_f_merging(x),MI_f)"
   ]
  },
  {
   "cell_type": "markdown",
   "metadata": {},
   "source": [
    "### Alternating automata"
   ]
  },
  {
   "cell_type": "code",
   "execution_count": 6,
   "metadata": {},
   "outputs": [],
   "source": [
    "### Tools' setting ###\n",
    "ltl3hoa_shared = \"ltl3hoa -p1 -t0 -u0 -z0 -f %f -a3 \"\n",
    "end = \" > %O\"\n",
    "tools = {\"LTL3HOA_both_merging\"    : ltl3hoa_shared + end,\n",
    "         \"LTL3HOA_F-merging\"  : ltl3hoa_shared + \"-G0 \" + end,\n",
    "         \"LTL3HOA_G-merging\"  : ltl3hoa_shared + \"-F0\" + end,\n",
    "         \"LTL3HOA_no_merging\" : ltl3hoa_shared + \"-F0 -G0\" + end,\n",
    "         #\"LTL3BA-POST\"     : \"ltl3ba -C -P -A -H1 -f %s > %O\",\n",
    "        }\n",
    "MI_order = [\"LTL3HOA_no_merging\",\"LTL3HOA_F-merging\",\n",
    "            \"LTL3HOA_G-merging\",\"LTL3HOA_both_merging\"]\n",
    "### File with measured statistics ###\n",
    "merging_imp_alt = 'MI_alt.csv'"
   ]
  },
  {
   "cell_type": "code",
   "execution_count": 7,
   "metadata": {},
   "outputs": [],
   "source": [
    "rerun = False"
   ]
  },
  {
   "cell_type": "code",
   "execution_count": 8,
   "metadata": {},
   "outputs": [],
   "source": [
    "MI_alt = LtlcrossRunner(tools,res_filename=merging_imp_alt,\n",
    "                        formula_files=[MI_f],\n",
    "                        cols=[\"states\",\"transitions\"])\n",
    "if rerun:\n",
    "    MI_alt.run_ltlcross()\n",
    "MI_alt.parse_results()"
   ]
  },
  {
   "cell_type": "markdown",
   "metadata": {},
   "source": [
    "Here are the cumulative number of states and number of nondeterministic automata (without branching transitions) for each tool. "
   ]
  },
  {
   "cell_type": "code",
   "execution_count": 9,
   "metadata": {},
   "outputs": [
    {
     "data": {
      "text/html": [
       "<div>\n",
       "<table border=\"1\" class=\"dataframe\">\n",
       "  <thead>\n",
       "    <tr style=\"text-align: right;\">\n",
       "      <th></th>\n",
       "      <th>states</th>\n",
       "      <th>transitions</th>\n",
       "    </tr>\n",
       "    <tr>\n",
       "      <th>tool</th>\n",
       "      <th></th>\n",
       "      <th></th>\n",
       "    </tr>\n",
       "  </thead>\n",
       "  <tbody>\n",
       "    <tr>\n",
       "      <th>LTL3HOA_no_merging</th>\n",
       "      <td>7610.0</td>\n",
       "      <td>59859.0</td>\n",
       "    </tr>\n",
       "    <tr>\n",
       "      <th>LTL3HOA_F-merging</th>\n",
       "      <td>6469.0</td>\n",
       "      <td>49663.0</td>\n",
       "    </tr>\n",
       "    <tr>\n",
       "      <th>LTL3HOA_G-merging</th>\n",
       "      <td>6284.0</td>\n",
       "      <td>50007.0</td>\n",
       "    </tr>\n",
       "    <tr>\n",
       "      <th>LTL3HOA_both_merging</th>\n",
       "      <td>5108.0</td>\n",
       "      <td>40068.0</td>\n",
       "    </tr>\n",
       "  </tbody>\n",
       "</table>\n",
       "</div>"
      ],
      "text/plain": [
       "                      states  transitions\n",
       "tool                                     \n",
       "LTL3HOA_no_merging    7610.0      59859.0\n",
       "LTL3HOA_F-merging     6469.0      49663.0\n",
       "LTL3HOA_G-merging     6284.0      50007.0\n",
       "LTL3HOA_both_merging  5108.0      40068.0"
      ]
     },
     "execution_count": 9,
     "metadata": {},
     "output_type": "execute_result"
    }
   ],
   "source": [
    "t1_alt = MI_alt.values.stack(level=0).unstack().sum().unstack().loc[MI_order,:]\n",
    "t1_alt"
   ]
  },
  {
   "cell_type": "markdown",
   "metadata": {},
   "source": [
    "### Nondeterministic automata"
   ]
  },
  {
   "cell_type": "code",
   "execution_count": 10,
   "metadata": {},
   "outputs": [],
   "source": [
    "### Tools' setting ###\n",
    "ltl3hoa_shared = \"ltl3hoa -p2 -s0 -u0 -z0 -f %f -a3 \"\n",
    "end = \" > %O\"\n",
    "tools = {\"LTL3HOA_both_merging\"    : ltl3hoa_shared + end,\n",
    "         \"LTL3HOA_F-merging\"  : ltl3hoa_shared + \"-G0 \" + end,\n",
    "         \"LTL3HOA_G-merging\"  : ltl3hoa_shared + \"-F0\" + end,\n",
    "         \"LTL3HOA_no_merging\" : ltl3hoa_shared + \"-F0 -G0\" + end,\n",
    "         #\"LTL3BA-POST\"     : \"ltl3ba -S0 -H2 -R -P -A -f %s > %O\",\n",
    "        }\n",
    "### File with measured statistics ###\n",
    "merging_imp = 'MI_nondet.csv'"
   ]
  },
  {
   "cell_type": "code",
   "execution_count": 11,
   "metadata": {},
   "outputs": [],
   "source": [
    "MI_nondet = LtlcrossRunner(tools,res_filename=merging_imp,\n",
    "                           formula_files=[MI_f],\n",
    "                           cols=[\"states\",\"transitions\",\"nondet_aut\"])\n",
    "if rerun:\n",
    "    MI_nondet.run_ltlcross()\n",
    "MI_nondet.parse_results()"
   ]
  },
  {
   "cell_type": "markdown",
   "metadata": {},
   "source": [
    "Here are the cumulative number of states and number of nondeterministic automata (without branching transitions) for each tool. "
   ]
  },
  {
   "cell_type": "code",
   "execution_count": 12,
   "metadata": {},
   "outputs": [
    {
     "data": {
      "text/html": [
       "<div>\n",
       "<table border=\"1\" class=\"dataframe\">\n",
       "  <thead>\n",
       "    <tr style=\"text-align: right;\">\n",
       "      <th></th>\n",
       "      <th>states</th>\n",
       "      <th>transitions</th>\n",
       "      <th>nondet_aut</th>\n",
       "    </tr>\n",
       "    <tr>\n",
       "      <th>tool</th>\n",
       "      <th></th>\n",
       "      <th></th>\n",
       "      <th></th>\n",
       "    </tr>\n",
       "  </thead>\n",
       "  <tbody>\n",
       "    <tr>\n",
       "      <th>LTL3HOA_no_merging</th>\n",
       "      <td>7822.0</td>\n",
       "      <td>64172.0</td>\n",
       "      <td>988.0</td>\n",
       "    </tr>\n",
       "    <tr>\n",
       "      <th>LTL3HOA_F-merging</th>\n",
       "      <td>6686.0</td>\n",
       "      <td>55610.0</td>\n",
       "      <td>821.0</td>\n",
       "    </tr>\n",
       "    <tr>\n",
       "      <th>LTL3HOA_G-merging</th>\n",
       "      <td>7870.0</td>\n",
       "      <td>64436.0</td>\n",
       "      <td>987.0</td>\n",
       "    </tr>\n",
       "    <tr>\n",
       "      <th>LTL3HOA_both_merging</th>\n",
       "      <td>6031.0</td>\n",
       "      <td>49814.0</td>\n",
       "      <td>824.0</td>\n",
       "    </tr>\n",
       "  </tbody>\n",
       "</table>\n",
       "</div>"
      ],
      "text/plain": [
       "                      states  transitions  nondet_aut\n",
       "tool                                                 \n",
       "LTL3HOA_no_merging    7822.0      64172.0       988.0\n",
       "LTL3HOA_F-merging     6686.0      55610.0       821.0\n",
       "LTL3HOA_G-merging     7870.0      64436.0       987.0\n",
       "LTL3HOA_both_merging  6031.0      49814.0       824.0"
      ]
     },
     "execution_count": 12,
     "metadata": {},
     "output_type": "execute_result"
    }
   ],
   "source": [
    "t1_nondet = MI_nondet.values.stack(level=0).unstack().sum().unstack().loc[MI_order,:]\n",
    "t1_nondet"
   ]
  },
  {
   "cell_type": "code",
   "execution_count": 13,
   "metadata": {},
   "outputs": [
    {
     "data": {
      "text/html": [
       "<div>\n",
       "<table border=\"1\" class=\"dataframe\">\n",
       "  <thead>\n",
       "    <tr>\n",
       "      <th></th>\n",
       "      <th colspan=\"2\" halign=\"left\">Alternating</th>\n",
       "      <th colspan=\"3\" halign=\"left\">Nondeterministic</th>\n",
       "    </tr>\n",
       "    <tr>\n",
       "      <th></th>\n",
       "      <th>states</th>\n",
       "      <th>transitions</th>\n",
       "      <th>states</th>\n",
       "      <th>transitions</th>\n",
       "      <th>nondet_aut</th>\n",
       "    </tr>\n",
       "    <tr>\n",
       "      <th>tool</th>\n",
       "      <th></th>\n",
       "      <th></th>\n",
       "      <th></th>\n",
       "      <th></th>\n",
       "      <th></th>\n",
       "    </tr>\n",
       "  </thead>\n",
       "  <tbody>\n",
       "    <tr>\n",
       "      <th>LTL3HOA_no_merging</th>\n",
       "      <td>7610.0</td>\n",
       "      <td>59859.0</td>\n",
       "      <td>7822.0</td>\n",
       "      <td>64172.0</td>\n",
       "      <td>988.0</td>\n",
       "    </tr>\n",
       "    <tr>\n",
       "      <th>LTL3HOA_F-merging</th>\n",
       "      <td>6469.0</td>\n",
       "      <td>49663.0</td>\n",
       "      <td>6686.0</td>\n",
       "      <td>55610.0</td>\n",
       "      <td>821.0</td>\n",
       "    </tr>\n",
       "    <tr>\n",
       "      <th>LTL3HOA_G-merging</th>\n",
       "      <td>6284.0</td>\n",
       "      <td>50007.0</td>\n",
       "      <td>7870.0</td>\n",
       "      <td>64436.0</td>\n",
       "      <td>987.0</td>\n",
       "    </tr>\n",
       "    <tr>\n",
       "      <th>LTL3HOA_both_merging</th>\n",
       "      <td>5108.0</td>\n",
       "      <td>40068.0</td>\n",
       "      <td>6031.0</td>\n",
       "      <td>49814.0</td>\n",
       "      <td>824.0</td>\n",
       "    </tr>\n",
       "  </tbody>\n",
       "</table>\n",
       "</div>"
      ],
      "text/plain": [
       "                     Alternating             Nondeterministic              \\\n",
       "                          states transitions           states transitions   \n",
       "tool                                                                        \n",
       "LTL3HOA_no_merging        7610.0     59859.0           7822.0     64172.0   \n",
       "LTL3HOA_F-merging         6469.0     49663.0           6686.0     55610.0   \n",
       "LTL3HOA_G-merging         6284.0     50007.0           7870.0     64436.0   \n",
       "LTL3HOA_both_merging      5108.0     40068.0           6031.0     49814.0   \n",
       "\n",
       "                                 \n",
       "                     nondet_aut  \n",
       "tool                             \n",
       "LTL3HOA_no_merging        988.0  \n",
       "LTL3HOA_F-merging         821.0  \n",
       "LTL3HOA_G-merging         987.0  \n",
       "LTL3HOA_both_merging      824.0  "
      ]
     },
     "execution_count": 13,
     "metadata": {},
     "output_type": "execute_result"
    }
   ],
   "source": [
    "t1 = pd.concat([t1_alt,t1_nondet],axis=1,keys=['Alternating','Nondeterministic'])\n",
    "t1"
   ]
  },
  {
   "cell_type": "code",
   "execution_count": 14,
   "metadata": {},
   "outputs": [],
   "source": [
    "row_map={\"LTL3HOA_no_merging\" : 'no merging',\n",
    "         \"LTL3HOA_F-merging\"  : '$\\F$-merging',\n",
    "         \"LTL3HOA_G-merging\"  : '$\\G$-merging',\n",
    "         \"LTL3HOA_both_merging\" : 'full-merging'}\n",
    "#t1.index.names = out_rows\n",
    "t1.rename(row_map,inplace=True)"
   ]
  },
  {
   "cell_type": "code",
   "execution_count": 15,
   "metadata": {},
   "outputs": [],
   "source": [
    "print(t1.to_latex(float_format='{:.0f}'.format,escape=False)\n",
    "      ,file=open('lics_t1.tex','w'))"
   ]
  },
  {
   "cell_type": "markdown",
   "metadata": {},
   "source": [
    "## Comparison with LTL to TGBA translators"
   ]
  },
  {
   "cell_type": "code",
   "execution_count": 16,
   "metadata": {},
   "outputs": [],
   "source": [
    "rerun = False"
   ]
  },
  {
   "cell_type": "markdown",
   "metadata": {},
   "source": [
    "### Generating Formulae"
   ]
  },
  {
   "cell_type": "markdown",
   "metadata": {},
   "source": [
    "We generate random formulae where there is some $\\mathsf{F}\\psi$ or $\\mathsf{G}\\psi$ such that $\\psi$ contains some other temporal formula."
   ]
  },
  {
   "cell_type": "code",
   "execution_count": 17,
   "metadata": {},
   "outputs": [],
   "source": [
    "comp_f = 'formulae/comparison.ltl'\n",
    "generate(1000,lambda x:\n",
    "        has_f_merging(x,False) or has_g_merging(x,False),\n",
    "        comp_f)"
   ]
  },
  {
   "cell_type": "markdown",
   "metadata": {},
   "source": [
    "### Nondeterministic automata"
   ]
  },
  {
   "cell_type": "code",
   "execution_count": 18,
   "metadata": {},
   "outputs": [],
   "source": [
    "### Tools' setting ###\n",
    "ltl3hoa_shared = \"ltl3hoa -p2 -f %f -a3 \"\n",
    "end = \" > %O\"\n",
    "tools = {\"LTL3HOA_both_merging\" : ltl3hoa_shared + end,\n",
    "         \"LTL3BA\"               : 'ltl3ba -H2 -f %s | autfilt --small > %O',         \n",
    "         \"SPOT-det\"             : 'ltl2tgba --deterministic -H %f>%O',\n",
    "         \"SPOT-small\"           : 'ltl2tgba --small -H %f>%O',\n",
    "        }\n",
    "tgba = [\"LTL3BA\",\"SPOT-det\",\"SPOT-small\"]\n",
    "### File with measured statistics ###\n",
    "comp_res = 'comp_nondet.csv'"
   ]
  },
  {
   "cell_type": "code",
   "execution_count": 19,
   "metadata": {},
   "outputs": [],
   "source": [
    "comp = LtlcrossRunner(tools,res_filename=comp_res,\n",
    "                           formula_files=[comp_f],\n",
    "                           cols=[\"states\",\"transitions\",\"nondet_aut\"])\n",
    "if rerun:\n",
    "    comp.run_ltlcross()\n",
    "comp.parse_results()"
   ]
  },
  {
   "cell_type": "markdown",
   "metadata": {},
   "source": [
    "Here are the cumulative number of states and number of nondeterministic automata (without branching transitions) for each tool. "
   ]
  },
  {
   "cell_type": "code",
   "execution_count": 20,
   "metadata": {},
   "outputs": [],
   "source": [
    "comp.compute_best(tgba,'VB(TGBA)')\n",
    "comp.compute_best(None,'VB(All)')"
   ]
  },
  {
   "cell_type": "code",
   "execution_count": 21,
   "metadata": {},
   "outputs": [
    {
     "data": {
      "text/html": [
       "<div>\n",
       "<table border=\"1\" class=\"dataframe\">\n",
       "  <thead>\n",
       "    <tr style=\"text-align: right;\">\n",
       "      <th></th>\n",
       "      <th>states</th>\n",
       "      <th>transitions</th>\n",
       "      <th>nondet_aut</th>\n",
       "    </tr>\n",
       "    <tr>\n",
       "      <th>tool</th>\n",
       "      <th></th>\n",
       "      <th></th>\n",
       "      <th></th>\n",
       "    </tr>\n",
       "  </thead>\n",
       "  <tbody>\n",
       "    <tr>\n",
       "      <th>LTL3BA</th>\n",
       "      <td>4645.0</td>\n",
       "      <td>29215.0</td>\n",
       "      <td>760.0</td>\n",
       "    </tr>\n",
       "    <tr>\n",
       "      <th>SPOT-det</th>\n",
       "      <td>4560.0</td>\n",
       "      <td>29082.0</td>\n",
       "      <td>705.0</td>\n",
       "    </tr>\n",
       "    <tr>\n",
       "      <th>SPOT-small</th>\n",
       "      <td>4531.0</td>\n",
       "      <td>28948.0</td>\n",
       "      <td>721.0</td>\n",
       "    </tr>\n",
       "    <tr>\n",
       "      <th>LTL3HOA_both_merging</th>\n",
       "      <td>4580.0</td>\n",
       "      <td>31779.0</td>\n",
       "      <td>743.0</td>\n",
       "    </tr>\n",
       "    <tr>\n",
       "      <th>VB(TGBA)</th>\n",
       "      <td>4525.0</td>\n",
       "      <td>28484.0</td>\n",
       "      <td>705.0</td>\n",
       "    </tr>\n",
       "    <tr>\n",
       "      <th>VB(All)</th>\n",
       "      <td>4172.0</td>\n",
       "      <td>26858.0</td>\n",
       "      <td>617.0</td>\n",
       "    </tr>\n",
       "  </tbody>\n",
       "</table>\n",
       "</div>"
      ],
      "text/plain": [
       "                      states  transitions  nondet_aut\n",
       "tool                                                 \n",
       "LTL3BA                4645.0      29215.0       760.0\n",
       "SPOT-det              4560.0      29082.0       705.0\n",
       "SPOT-small            4531.0      28948.0       721.0\n",
       "LTL3HOA_both_merging  4580.0      31779.0       743.0\n",
       "VB(TGBA)              4525.0      28484.0       705.0\n",
       "VB(All)               4172.0      26858.0       617.0"
      ]
     },
     "execution_count": 21,
     "metadata": {},
     "output_type": "execute_result"
    }
   ],
   "source": [
    "tmp = comp.values.stack(level=0).unstack().sum()\n",
    "t2 = tmp.unstack().loc[tgba+['LTL3HOA_both_merging']+comp.mins,:]\n",
    "t2"
   ]
  },
  {
   "cell_type": "code",
   "execution_count": 22,
   "metadata": {},
   "outputs": [
    {
     "name": "stdout",
     "output_type": "stream",
     "text": [
      "\\begin{tabular}{lrrr}\n",
      "\\toprule\n",
      "{} &  states &  transitions &  nondet\\_aut \\\\\n",
      "tool                 &         &              &             \\\\\n",
      "\\midrule\n",
      "LTL3BA               &    4645 &        29215 &         760 \\\\\n",
      "SPOT-det             &    4560 &        29082 &         705 \\\\\n",
      "SPOT-small           &    4531 &        28948 &         721 \\\\\n",
      "LTL3HOA\\_both\\_merging &    4580 &        31779 &         743 \\\\\n",
      "VB(TGBA)             &    4525 &        28484 &         705 \\\\\n",
      "VB(All)              &    4172 &        26858 &         617 \\\\\n",
      "\\bottomrule\n",
      "\\end{tabular}\n",
      "\n"
     ]
    }
   ],
   "source": [
    "print(t2.to_latex(float_format='{:.0f}'.format,bold_rows=True,\n",
    "                 ))#,file=open('lics_t2.tex','w'))"
   ]
  }
 ],
 "metadata": {
  "kernelspec": {
   "display_name": "Python 3",
   "language": "python",
   "name": "python3"
  },
  "language_info": {
   "codemirror_mode": {
    "name": "ipython",
    "version": 3
   },
   "file_extension": ".py",
   "mimetype": "text/x-python",
   "name": "python",
   "nbconvert_exporter": "python",
   "pygments_lexer": "ipython3",
   "version": "3.4.3"
  }
 },
 "nbformat": 4,
 "nbformat_minor": 1
}
