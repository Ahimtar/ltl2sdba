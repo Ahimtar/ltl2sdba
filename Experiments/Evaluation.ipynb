{
 "cells": [
  {
   "cell_type": "markdown",
   "metadata": {},
   "source": [
    "# Experiments for TACAS paper"
   ]
  },
  {
   "cell_type": "code",
   "execution_count": 1,
   "metadata": {},
   "outputs": [
    {
     "name": "stdout",
     "output_type": "stream",
     "text": [
      "LTL3BA 1.1.3\n",
      "LTL3TELA 1.1.0\n",
      "ltl2tgba (spot 2.4.1.dev)\n",
      "\n",
      "Copyright (C) 2017  Laboratoire de Recherche et Développement de l'Epita.\n",
      "License GPLv3+: GNU GPL version 3 or later <http://gnu.org/licenses/gpl.html>.\n",
      "This is free software: you are free to change and redistribute it.\n",
      "There is NO WARRANTY, to the extent permitted by law.\n",
      "ltlcross (spot 2.4.1.dev)\n",
      "\n",
      "Copyright (C) 2017  Laboratoire de Recherche et Développement de l'Epita.\n",
      "License GPLv3+: GNU GPL version 3 or later <http://gnu.org/licenses/gpl.html>.\n",
      "This is free software: you are free to change and redistribute it.\n",
      "There is NO WARRANTY, to the extent permitted by law.\n"
     ]
    }
   ],
   "source": [
    "%%bash\n",
    "ltl3ba -v\n",
    "ltl3hoa -v\n",
    "ltl2tgba --version\n",
    "ltlcross --version"
   ]
  },
  {
   "cell_type": "code",
   "execution_count": 2,
   "metadata": {
    "collapsed": true
   },
   "outputs": [],
   "source": [
    "from ltlcross_runner import LtlcrossRunner\n",
    "from experiments_lib import has_f_merging, has_g_merging\n",
    "from IPython.display import display\n",
    "import pandas as pd\n",
    "import spot\n",
    "import sys\n",
    "spot.setup(show_default='.a')"
   ]
  },
  {
   "cell_type": "code",
   "execution_count": 3,
   "metadata": {
    "collapsed": true
   },
   "outputs": [],
   "source": [
    "def generate(n=100,func=(lambda x: True),filename=None,priorities='M=0,W=0,xor=0',ap=['a','b','c','d','e']):\n",
    "    if filename is None:\n",
    "        file_h = sys.stdout\n",
    "    else:\n",
    "        file_h = open(filename,'w')\n",
    "    f = spot.randltl(ap,\n",
    "                     ltl_priorities=priorities,\n",
    "                     simplify=3,tree_size=15).relabel_bse(spot.Abc)\\\n",
    "                     .unabbreviate('WM')\n",
    "    i = 0\n",
    "    printed = set()\n",
    "    while(i < n):\n",
    "        form = next(f)\n",
    "        if form in printed:\n",
    "            continue\n",
    "        if func(form) and not form.is_tt() and not form.is_ff():\n",
    "            print(form,file=file_h)\n",
    "            printed.add(form)\n",
    "            i += 1"
   ]
  },
  {
   "cell_type": "markdown",
   "metadata": {},
   "source": [
    "## Impact of F- and G-merging"
   ]
  },
  {
   "cell_type": "code",
   "execution_count": 4,
   "metadata": {
    "collapsed": true
   },
   "outputs": [],
   "source": [
    "rerun = False"
   ]
  },
  {
   "cell_type": "markdown",
   "metadata": {},
   "source": [
    "### Generating Formulae\n",
    "We generate random formulae from the $LTL(\\mathsf{F},\\mathsf{G})$ fragment."
   ]
  },
  {
   "cell_type": "code",
   "execution_count": 5,
   "metadata": {
    "collapsed": true
   },
   "outputs": [],
   "source": [
    "fg_f = 'formulae/fg.ltl'\n",
    "!mkdir -p formulae\n",
    "generate(500,filename=fg_f,priorities='xor=0,implies=0,equiv=0,X=0,W=0,M=0,R=0,U=0,F=3,G=3')"
   ]
  },
  {
   "cell_type": "markdown",
   "metadata": {},
   "source": [
    "### Alternating automata"
   ]
  },
  {
   "cell_type": "code",
   "execution_count": 6,
   "metadata": {
    "collapsed": true
   },
   "outputs": [],
   "source": [
    "### Tools' setting ###\n",
    "ltl3hoa_shared = \"ltl3hoa -p1 -t0 -u0 -z0 -f %f -a3 -n0 \"\n",
    "end = \" > %O\"\n",
    "tools = {\"LTL3HOA_both_merging\" : ltl3hoa_shared + end,\n",
    "         \"LTL3HOA_F-merging\"    : ltl3hoa_shared + \"-G0 \" + end,\n",
    "         \"LTL3HOA_G-merging\"    : ltl3hoa_shared + \"-F0\" + end,\n",
    "         \"LTL3HOA_no_merging\"   : ltl3hoa_shared + \"-F0 -G0\" + end,\n",
    "        }\n",
    "MI_order = [\"LTL3HOA_no_merging\",\"LTL3HOA_F-merging\",\n",
    "            \"LTL3HOA_G-merging\",\"LTL3HOA_both_merging\"]\n",
    "### File with measured statistics ###\n",
    "merging_imp_alt = 'MI_alt.csv'"
   ]
  },
  {
   "cell_type": "code",
   "execution_count": 7,
   "metadata": {
    "collapsed": true
   },
   "outputs": [],
   "source": [
    "MI_alt = LtlcrossRunner(tools,res_filename=merging_imp_alt,\n",
    "                        formula_files=[fg_f],\n",
    "                        cols=[\"states\",\"transitions\"])\n",
    "if rerun:\n",
    "    MI_alt.run_ltlcross()\n",
    "MI_alt.parse_results()"
   ]
  },
  {
   "cell_type": "markdown",
   "metadata": {},
   "source": [
    "Here are the cumulative number of states and number of nondeterministic automata (without branching transitions) for each tool. "
   ]
  },
  {
   "cell_type": "code",
   "execution_count": 8,
   "metadata": {},
   "outputs": [
    {
     "data": {
      "text/html": [
       "<div>\n",
       "<style>\n",
       "    .dataframe thead tr:only-child th {\n",
       "        text-align: right;\n",
       "    }\n",
       "\n",
       "    .dataframe thead th {\n",
       "        text-align: left;\n",
       "    }\n",
       "\n",
       "    .dataframe tbody tr th {\n",
       "        vertical-align: top;\n",
       "    }\n",
       "</style>\n",
       "<table border=\"1\" class=\"dataframe\">\n",
       "  <thead>\n",
       "    <tr style=\"text-align: right;\">\n",
       "      <th>column</th>\n",
       "      <th>states</th>\n",
       "      <th>transitions</th>\n",
       "    </tr>\n",
       "    <tr>\n",
       "      <th>tool</th>\n",
       "      <th></th>\n",
       "      <th></th>\n",
       "    </tr>\n",
       "  </thead>\n",
       "  <tbody>\n",
       "    <tr>\n",
       "      <th>LTL3HOA_no_merging</th>\n",
       "      <td>2467.0</td>\n",
       "      <td>18294.0</td>\n",
       "    </tr>\n",
       "    <tr>\n",
       "      <th>LTL3HOA_F-merging</th>\n",
       "      <td>1956.0</td>\n",
       "      <td>14465.0</td>\n",
       "    </tr>\n",
       "    <tr>\n",
       "      <th>LTL3HOA_G-merging</th>\n",
       "      <td>1868.0</td>\n",
       "      <td>13932.0</td>\n",
       "    </tr>\n",
       "    <tr>\n",
       "      <th>LTL3HOA_both_merging</th>\n",
       "      <td>1362.0</td>\n",
       "      <td>10441.0</td>\n",
       "    </tr>\n",
       "  </tbody>\n",
       "</table>\n",
       "</div>"
      ],
      "text/plain": [
       "column                states  transitions\n",
       "tool                                     \n",
       "LTL3HOA_no_merging    2467.0      18294.0\n",
       "LTL3HOA_F-merging     1956.0      14465.0\n",
       "LTL3HOA_G-merging     1868.0      13932.0\n",
       "LTL3HOA_both_merging  1362.0      10441.0"
      ]
     },
     "execution_count": 8,
     "metadata": {},
     "output_type": "execute_result"
    }
   ],
   "source": [
    "t1_alt = MI_alt.values.stack(level=0).unstack().sum().unstack().loc[MI_order,:]\n",
    "t1_alt"
   ]
  },
  {
   "cell_type": "markdown",
   "metadata": {},
   "source": [
    "### Nondeterministic automata"
   ]
  },
  {
   "cell_type": "code",
   "execution_count": 9,
   "metadata": {
    "collapsed": true
   },
   "outputs": [],
   "source": [
    "### Tools' setting ###\n",
    "ltl3hoa_shared = \"ltl3hoa -p2 -s0 -u0 -z0 -f %f -a3 -n0 \"\n",
    "end = \" > %O\"\n",
    "tools = {\"LTL3HOA_both_merging\"       : ltl3hoa_shared + end,\n",
    "         \"LTL3HOA_both_merging_compl\" : ltl3hoa_shared + \"-n1\" + end,\n",
    "         \"LTL3HOA_F-merging\"          : ltl3hoa_shared + \"-G0\" + end,\n",
    "         \"LTL3HOA_G-merging\"          : ltl3hoa_shared + \"-F0\" + end,\n",
    "         \"LTL3HOA_no_merging\"         : ltl3hoa_shared + \"-F0 -G0\" + end,\n",
    "        }\n",
    "MI_order = [\"LTL3HOA_no_merging\",\"LTL3HOA_F-merging\",\n",
    "            \"LTL3HOA_G-merging\",\"LTL3HOA_both_merging\",\n",
    "            \"LTL3HOA_both_merging_compl\"]\n",
    "### File with measured statistics ###\n",
    "merging_imp = 'MI_nondet.csv'\n",
    "cols=[\"states\",\"transitions\",\"nondet_aut\"]"
   ]
  },
  {
   "cell_type": "code",
   "execution_count": 10,
   "metadata": {
    "collapsed": true
   },
   "outputs": [],
   "source": [
    "MI_nondet = LtlcrossRunner(tools,res_filename=merging_imp,\n",
    "                           formula_files=[fg_f],\n",
    "                           cols=cols)\n",
    "if rerun:\n",
    "    MI_nondet.run_ltlcross()\n",
    "MI_nondet.parse_results()"
   ]
  },
  {
   "cell_type": "markdown",
   "metadata": {},
   "source": [
    "Here are the cumulative number of states and number of nondeterministic automata (without branching transitions) for each tool. "
   ]
  },
  {
   "cell_type": "code",
   "execution_count": 21,
   "metadata": {},
   "outputs": [
    {
     "data": {
      "text/html": [
       "<div>\n",
       "<style>\n",
       "    .dataframe thead tr:only-child th {\n",
       "        text-align: right;\n",
       "    }\n",
       "\n",
       "    .dataframe thead th {\n",
       "        text-align: left;\n",
       "    }\n",
       "\n",
       "    .dataframe tbody tr th {\n",
       "        vertical-align: top;\n",
       "    }\n",
       "</style>\n",
       "<table border=\"1\" class=\"dataframe\">\n",
       "  <thead>\n",
       "    <tr style=\"text-align: right;\">\n",
       "      <th>column</th>\n",
       "      <th>states</th>\n",
       "      <th>transitions</th>\n",
       "      <th>nondet_aut</th>\n",
       "    </tr>\n",
       "    <tr>\n",
       "      <th>tool</th>\n",
       "      <th></th>\n",
       "      <th></th>\n",
       "      <th></th>\n",
       "    </tr>\n",
       "  </thead>\n",
       "  <tbody>\n",
       "    <tr>\n",
       "      <th>LTL3HOA_no_merging</th>\n",
       "      <td>1732.0</td>\n",
       "      <td>12289.0</td>\n",
       "      <td>430.0</td>\n",
       "    </tr>\n",
       "    <tr>\n",
       "      <th>LTL3HOA_F-merging</th>\n",
       "      <td>1534.0</td>\n",
       "      <td>12313.0</td>\n",
       "      <td>353.0</td>\n",
       "    </tr>\n",
       "    <tr>\n",
       "      <th>LTL3HOA_G-merging</th>\n",
       "      <td>1745.0</td>\n",
       "      <td>12378.0</td>\n",
       "      <td>434.0</td>\n",
       "    </tr>\n",
       "    <tr>\n",
       "      <th>LTL3HOA_both_merging</th>\n",
       "      <td>1251.0</td>\n",
       "      <td>9588.0</td>\n",
       "      <td>358.0</td>\n",
       "    </tr>\n",
       "    <tr>\n",
       "      <th>LTL3HOA_both_merging_compl</th>\n",
       "      <td>1238.0</td>\n",
       "      <td>9522.0</td>\n",
       "      <td>351.0</td>\n",
       "    </tr>\n",
       "  </tbody>\n",
       "</table>\n",
       "</div>"
      ],
      "text/plain": [
       "column                      states  transitions  nondet_aut\n",
       "tool                                                       \n",
       "LTL3HOA_no_merging          1732.0      12289.0       430.0\n",
       "LTL3HOA_F-merging           1534.0      12313.0       353.0\n",
       "LTL3HOA_G-merging           1745.0      12378.0       434.0\n",
       "LTL3HOA_both_merging        1251.0       9588.0       358.0\n",
       "LTL3HOA_both_merging_compl  1238.0       9522.0       351.0"
      ]
     },
     "execution_count": 21,
     "metadata": {},
     "output_type": "execute_result"
    }
   ],
   "source": [
    "t1_nondet = MI_nondet.values.stack(level=0).unstack().sum().unstack().loc[MI_order,:]\n",
    "t1_nondet = t1_nondet[cols]; t1_nondet"
   ]
  },
  {
   "cell_type": "code",
   "execution_count": 22,
   "metadata": {},
   "outputs": [
    {
     "data": {
      "text/html": [
       "<div>\n",
       "<style>\n",
       "    .dataframe thead tr:only-child th {\n",
       "        text-align: right;\n",
       "    }\n",
       "\n",
       "    .dataframe thead th {\n",
       "        text-align: left;\n",
       "    }\n",
       "\n",
       "    .dataframe tbody tr th {\n",
       "        vertical-align: top;\n",
       "    }\n",
       "</style>\n",
       "<table border=\"1\" class=\"dataframe\">\n",
       "  <thead>\n",
       "    <tr>\n",
       "      <th></th>\n",
       "      <th colspan=\"2\" halign=\"left\">Alternating</th>\n",
       "      <th colspan=\"3\" halign=\"left\">Nondeterministic</th>\n",
       "    </tr>\n",
       "    <tr>\n",
       "      <th>column</th>\n",
       "      <th>states</th>\n",
       "      <th>transitions</th>\n",
       "      <th>states</th>\n",
       "      <th>transitions</th>\n",
       "      <th>nondet_aut</th>\n",
       "    </tr>\n",
       "  </thead>\n",
       "  <tbody>\n",
       "    <tr>\n",
       "      <th>LTL3HOA_no_merging</th>\n",
       "      <td>2467.0</td>\n",
       "      <td>18294.0</td>\n",
       "      <td>1732.0</td>\n",
       "      <td>12289.0</td>\n",
       "      <td>430.0</td>\n",
       "    </tr>\n",
       "    <tr>\n",
       "      <th>LTL3HOA_F-merging</th>\n",
       "      <td>1956.0</td>\n",
       "      <td>14465.0</td>\n",
       "      <td>1534.0</td>\n",
       "      <td>12313.0</td>\n",
       "      <td>353.0</td>\n",
       "    </tr>\n",
       "    <tr>\n",
       "      <th>LTL3HOA_G-merging</th>\n",
       "      <td>1868.0</td>\n",
       "      <td>13932.0</td>\n",
       "      <td>1745.0</td>\n",
       "      <td>12378.0</td>\n",
       "      <td>434.0</td>\n",
       "    </tr>\n",
       "    <tr>\n",
       "      <th>LTL3HOA_both_merging</th>\n",
       "      <td>1362.0</td>\n",
       "      <td>10441.0</td>\n",
       "      <td>1251.0</td>\n",
       "      <td>9588.0</td>\n",
       "      <td>358.0</td>\n",
       "    </tr>\n",
       "    <tr>\n",
       "      <th>LTL3HOA_both_merging_compl</th>\n",
       "      <td>NaN</td>\n",
       "      <td>NaN</td>\n",
       "      <td>1238.0</td>\n",
       "      <td>9522.0</td>\n",
       "      <td>351.0</td>\n",
       "    </tr>\n",
       "  </tbody>\n",
       "</table>\n",
       "</div>"
      ],
      "text/plain": [
       "                           Alternating             Nondeterministic  \\\n",
       "column                          states transitions           states   \n",
       "LTL3HOA_no_merging              2467.0     18294.0           1732.0   \n",
       "LTL3HOA_F-merging               1956.0     14465.0           1534.0   \n",
       "LTL3HOA_G-merging               1868.0     13932.0           1745.0   \n",
       "LTL3HOA_both_merging            1362.0     10441.0           1251.0   \n",
       "LTL3HOA_both_merging_compl         NaN         NaN           1238.0   \n",
       "\n",
       "                                                   \n",
       "column                     transitions nondet_aut  \n",
       "LTL3HOA_no_merging             12289.0      430.0  \n",
       "LTL3HOA_F-merging              12313.0      353.0  \n",
       "LTL3HOA_G-merging              12378.0      434.0  \n",
       "LTL3HOA_both_merging            9588.0      358.0  \n",
       "LTL3HOA_both_merging_compl      9522.0      351.0  "
      ]
     },
     "execution_count": 22,
     "metadata": {},
     "output_type": "execute_result"
    }
   ],
   "source": [
    "t1 = pd.concat([t1_alt,t1_nondet],axis=1,keys=['Alternating','Nondeterministic']).loc[MI_order,:]\n",
    "t1"
   ]
  },
  {
   "cell_type": "code",
   "execution_count": 23,
   "metadata": {
    "collapsed": true
   },
   "outputs": [
    {
     "data": {
      "text/html": [
       "<div>\n",
       "<style>\n",
       "    .dataframe thead tr:only-child th {\n",
       "        text-align: right;\n",
       "    }\n",
       "\n",
       "    .dataframe thead th {\n",
       "        text-align: left;\n",
       "    }\n",
       "\n",
       "    .dataframe tbody tr th {\n",
       "        vertical-align: top;\n",
       "    }\n",
       "</style>\n",
       "<table border=\"1\" class=\"dataframe\">\n",
       "  <thead>\n",
       "    <tr>\n",
       "      <th></th>\n",
       "      <th colspan=\"2\" halign=\"left\">Alternating</th>\n",
       "      <th colspan=\"3\" halign=\"left\">Nondeterministic</th>\n",
       "    </tr>\n",
       "    <tr>\n",
       "      <th>column</th>\n",
       "      <th>states</th>\n",
       "      <th>transitions</th>\n",
       "      <th>states</th>\n",
       "      <th>transitions</th>\n",
       "      <th>nondet_aut</th>\n",
       "    </tr>\n",
       "  </thead>\n",
       "  <tbody>\n",
       "    <tr>\n",
       "      <th>no merging</th>\n",
       "      <td>2467.0</td>\n",
       "      <td>18294.0</td>\n",
       "      <td>1732.0</td>\n",
       "      <td>12289.0</td>\n",
       "      <td>430.0</td>\n",
       "    </tr>\n",
       "    <tr>\n",
       "      <th>$\\F$-merging</th>\n",
       "      <td>1956.0</td>\n",
       "      <td>14465.0</td>\n",
       "      <td>1534.0</td>\n",
       "      <td>12313.0</td>\n",
       "      <td>353.0</td>\n",
       "    </tr>\n",
       "    <tr>\n",
       "      <th>$\\G$-merging</th>\n",
       "      <td>1868.0</td>\n",
       "      <td>13932.0</td>\n",
       "      <td>1745.0</td>\n",
       "      <td>12378.0</td>\n",
       "      <td>434.0</td>\n",
       "    </tr>\n",
       "    <tr>\n",
       "      <th>full-merging</th>\n",
       "      <td>1362.0</td>\n",
       "      <td>10441.0</td>\n",
       "      <td>1251.0</td>\n",
       "      <td>9588.0</td>\n",
       "      <td>358.0</td>\n",
       "    </tr>\n",
       "    <tr>\n",
       "      <th>full-merging + complement</th>\n",
       "      <td>NaN</td>\n",
       "      <td>NaN</td>\n",
       "      <td>1238.0</td>\n",
       "      <td>9522.0</td>\n",
       "      <td>351.0</td>\n",
       "    </tr>\n",
       "  </tbody>\n",
       "</table>\n",
       "</div>"
      ],
      "text/plain": [
       "                          Alternating             Nondeterministic  \\\n",
       "column                         states transitions           states   \n",
       "no merging                     2467.0     18294.0           1732.0   \n",
       "$\\F$-merging                   1956.0     14465.0           1534.0   \n",
       "$\\G$-merging                   1868.0     13932.0           1745.0   \n",
       "full-merging                   1362.0     10441.0           1251.0   \n",
       "full-merging + complement         NaN         NaN           1238.0   \n",
       "\n",
       "                                                  \n",
       "column                    transitions nondet_aut  \n",
       "no merging                    12289.0      430.0  \n",
       "$\\F$-merging                  12313.0      353.0  \n",
       "$\\G$-merging                  12378.0      434.0  \n",
       "full-merging                   9588.0      358.0  \n",
       "full-merging + complement      9522.0      351.0  "
      ]
     },
     "execution_count": 23,
     "metadata": {},
     "output_type": "execute_result"
    }
   ],
   "source": [
    "row_map={\"LTL3HOA_no_merging\" : 'no merging',\n",
    "         \"LTL3HOA_F-merging\"  : '$\\F$-merging',\n",
    "         \"LTL3HOA_G-merging\"  : '$\\G$-merging',\n",
    "         \"LTL3HOA_both_merging\" : 'full-merging',\n",
    "         \"LTL3HOA_both_merging_compl\" : \"full-merging + complement\"}\n",
    "t1.rename(row_map,inplace=True); t1"
   ]
  },
  {
   "cell_type": "code",
   "execution_count": 24,
   "metadata": {
    "collapsed": true
   },
   "outputs": [
    {
     "name": "stdout",
     "output_type": "stream",
     "text": [
      "\\begin{tabular}{lrrrrr}\n",
      "\\toprule\n",
      "{} & \\multicolumn{2}{l}{Alternating} & \\multicolumn{3}{l}{Nondeterministic} \\\\\n",
      "column &      states & transitions &           states & transitions & nondet_aut \\\\\n",
      "\\midrule\n",
      "no merging                &        2467 &       18294 &             1732 &       12289 &        430 \\\\\n",
      "$\\F$-merging              &        1956 &       14465 &             1534 &       12313 &        353 \\\\\n",
      "$\\G$-merging              &        1868 &       13932 &             1745 &       12378 &        434 \\\\\n",
      "full-merging              &        1362 &       10441 &             1251 &        9588 &        358 \\\\\n",
      "full-merging + complement &         nan &         nan &             1238 &        9522 &        351 \\\\\n",
      "\\bottomrule\n",
      "\\end{tabular}\n",
      "\n"
     ]
    }
   ],
   "source": [
    "print(t1.to_latex(float_format='{:.0f}'.format,escape=False)\n",
    "      ,)#file=open('lics_t1.tex','w'))"
   ]
  },
  {
   "cell_type": "markdown",
   "metadata": {},
   "source": [
    "## Comparison with LTL to TGBA translators"
   ]
  },
  {
   "cell_type": "markdown",
   "metadata": {},
   "source": [
    "### Formulae\n",
    "We use the same set of 500 formulae from the $LTL(\\mathsf{F}\\mathsf{G})$ fragment as above."
   ]
  },
  {
   "cell_type": "markdown",
   "metadata": {},
   "source": [
    "### Nondeterministic automata"
   ]
  },
  {
   "cell_type": "code",
   "execution_count": 25,
   "metadata": {
    "collapsed": true
   },
   "outputs": [],
   "source": [
    "### Tools' setting ###\n",
    "ltl3hoa_shared = \"ltl3hoa -p2 -f %f -a3 -n0 \"\n",
    "end = \" > %O\"\n",
    "tools = {\"LTL3HOA_both_merging\"       : ltl3hoa_shared + end,\n",
    "         \"LTL3HOA_both_merging_compl\" : ltl3hoa_shared + \"-n1 \" + end,\n",
    "         \"LTL3BA\"                     : 'ltl3ba -H2 -f %s | autfilt --small > %O',         \n",
    "         \"SPOT-det\"                   : 'ltl2tgba --deterministic -H %f>%O',\n",
    "         \"SPOT-small\"                 : 'ltl2tgba --small -H %f>%O',\n",
    "        }\n",
    "tgba = [\"LTL3BA\",\"SPOT-det\",\"SPOT-small\"]\n",
    "### File with measured statistics ###\n",
    "comp_res = 'comp_nondet.csv'"
   ]
  },
  {
   "cell_type": "code",
   "execution_count": 26,
   "metadata": {
    "collapsed": true
   },
   "outputs": [],
   "source": [
    "comp = LtlcrossRunner(tools,res_filename=comp_res,\n",
    "                           formula_files=[fg_f],\n",
    "                           cols=cols)\n",
    "if rerun:\n",
    "    comp.run_ltlcross()\n",
    "comp.parse_results()"
   ]
  },
  {
   "cell_type": "markdown",
   "metadata": {},
   "source": [
    "Here are the cumulative number of states and number of nondeterministic automata (without branching transitions) for each tool. "
   ]
  },
  {
   "cell_type": "code",
   "execution_count": 27,
   "metadata": {
    "collapsed": true
   },
   "outputs": [],
   "source": [
    "comp.compute_best(tgba,'VB(TGBA)')\n",
    "comp.compute_best(tgba+['LTL3HOA_both_merging'],'VB(no-complement)')\n",
    "comp.compute_best(None,'VB(All)')"
   ]
  },
  {
   "cell_type": "code",
   "execution_count": 28,
   "metadata": {},
   "outputs": [
    {
     "data": {
      "text/html": [
       "<div>\n",
       "<style>\n",
       "    .dataframe thead tr:only-child th {\n",
       "        text-align: right;\n",
       "    }\n",
       "\n",
       "    .dataframe thead th {\n",
       "        text-align: left;\n",
       "    }\n",
       "\n",
       "    .dataframe tbody tr th {\n",
       "        vertical-align: top;\n",
       "    }\n",
       "</style>\n",
       "<table border=\"1\" class=\"dataframe\">\n",
       "  <thead>\n",
       "    <tr style=\"text-align: right;\">\n",
       "      <th>column</th>\n",
       "      <th>states</th>\n",
       "      <th>transitions</th>\n",
       "      <th>nondet_aut</th>\n",
       "    </tr>\n",
       "    <tr>\n",
       "      <th>tool</th>\n",
       "      <th></th>\n",
       "      <th></th>\n",
       "      <th></th>\n",
       "    </tr>\n",
       "  </thead>\n",
       "  <tbody>\n",
       "    <tr>\n",
       "      <th>LTL3BA</th>\n",
       "      <td>1649.0</td>\n",
       "      <td>10767.0</td>\n",
       "      <td>413.0</td>\n",
       "    </tr>\n",
       "    <tr>\n",
       "      <th>SPOT-det</th>\n",
       "      <td>1520.0</td>\n",
       "      <td>10051.0</td>\n",
       "      <td>371.0</td>\n",
       "    </tr>\n",
       "    <tr>\n",
       "      <th>SPOT-small</th>\n",
       "      <td>1519.0</td>\n",
       "      <td>10048.0</td>\n",
       "      <td>372.0</td>\n",
       "    </tr>\n",
       "    <tr>\n",
       "      <th>LTL3HOA_both_merging</th>\n",
       "      <td>1248.0</td>\n",
       "      <td>9544.0</td>\n",
       "      <td>357.0</td>\n",
       "    </tr>\n",
       "    <tr>\n",
       "      <th>LTL3HOA_both_merging_compl</th>\n",
       "      <td>1225.0</td>\n",
       "      <td>9410.0</td>\n",
       "      <td>342.0</td>\n",
       "    </tr>\n",
       "    <tr>\n",
       "      <th>VB(TGBA)</th>\n",
       "      <td>1519.0</td>\n",
       "      <td>9870.0</td>\n",
       "      <td>371.0</td>\n",
       "    </tr>\n",
       "    <tr>\n",
       "      <th>VB(no-complement)</th>\n",
       "      <td>1194.0</td>\n",
       "      <td>8567.0</td>\n",
       "      <td>309.0</td>\n",
       "    </tr>\n",
       "    <tr>\n",
       "      <th>VB(All)</th>\n",
       "      <td>1183.0</td>\n",
       "      <td>8504.0</td>\n",
       "      <td>299.0</td>\n",
       "    </tr>\n",
       "  </tbody>\n",
       "</table>\n",
       "</div>"
      ],
      "text/plain": [
       "column                      states  transitions  nondet_aut\n",
       "tool                                                       \n",
       "LTL3BA                      1649.0      10767.0       413.0\n",
       "SPOT-det                    1520.0      10051.0       371.0\n",
       "SPOT-small                  1519.0      10048.0       372.0\n",
       "LTL3HOA_both_merging        1248.0       9544.0       357.0\n",
       "LTL3HOA_both_merging_compl  1225.0       9410.0       342.0\n",
       "VB(TGBA)                    1519.0       9870.0       371.0\n",
       "VB(no-complement)           1194.0       8567.0       309.0\n",
       "VB(All)                     1183.0       8504.0       299.0"
      ]
     },
     "execution_count": 28,
     "metadata": {},
     "output_type": "execute_result"
    }
   ],
   "source": [
    "tmp = comp.values.stack(level=0).unstack().sum()\n",
    "t2 = tmp.unstack().loc[tgba+['LTL3HOA_both_merging',\"LTL3HOA_both_merging_compl\"]+comp.mins,:][cols]\n",
    "t2"
   ]
  },
  {
   "cell_type": "code",
   "execution_count": 29,
   "metadata": {
    "collapsed": true
   },
   "outputs": [
    {
     "data": {
      "text/html": [
       "<div>\n",
       "<style>\n",
       "    .dataframe thead tr:only-child th {\n",
       "        text-align: right;\n",
       "    }\n",
       "\n",
       "    .dataframe thead th {\n",
       "        text-align: left;\n",
       "    }\n",
       "\n",
       "    .dataframe tbody tr th {\n",
       "        vertical-align: top;\n",
       "    }\n",
       "</style>\n",
       "<table border=\"1\" class=\"dataframe\">\n",
       "  <thead>\n",
       "    <tr style=\"text-align: right;\">\n",
       "      <th>column</th>\n",
       "      <th>states</th>\n",
       "      <th>transitions</th>\n",
       "      <th>nondet_aut</th>\n",
       "    </tr>\n",
       "    <tr>\n",
       "      <th>tool</th>\n",
       "      <th></th>\n",
       "      <th></th>\n",
       "      <th></th>\n",
       "    </tr>\n",
       "  </thead>\n",
       "  <tbody>\n",
       "    <tr>\n",
       "      <th>LTL3BA</th>\n",
       "      <td>1649.0</td>\n",
       "      <td>10767.0</td>\n",
       "      <td>413.0</td>\n",
       "    </tr>\n",
       "    <tr>\n",
       "      <th>SPOT-det</th>\n",
       "      <td>1520.0</td>\n",
       "      <td>10051.0</td>\n",
       "      <td>371.0</td>\n",
       "    </tr>\n",
       "    <tr>\n",
       "      <th>SPOT-small</th>\n",
       "      <td>1519.0</td>\n",
       "      <td>10048.0</td>\n",
       "      <td>372.0</td>\n",
       "    </tr>\n",
       "    <tr>\n",
       "      <th>LTL3HOA-opt</th>\n",
       "      <td>1248.0</td>\n",
       "      <td>9544.0</td>\n",
       "      <td>357.0</td>\n",
       "    </tr>\n",
       "    <tr>\n",
       "      <th>LTL3HOA+opt</th>\n",
       "      <td>1225.0</td>\n",
       "      <td>9410.0</td>\n",
       "      <td>342.0</td>\n",
       "    </tr>\n",
       "    <tr>\n",
       "      <th>VB(TGBA)</th>\n",
       "      <td>1519.0</td>\n",
       "      <td>9870.0</td>\n",
       "      <td>371.0</td>\n",
       "    </tr>\n",
       "    <tr>\n",
       "      <th>VB(no-opt)</th>\n",
       "      <td>1194.0</td>\n",
       "      <td>8567.0</td>\n",
       "      <td>309.0</td>\n",
       "    </tr>\n",
       "    <tr>\n",
       "      <th>VB(All)</th>\n",
       "      <td>1183.0</td>\n",
       "      <td>8504.0</td>\n",
       "      <td>299.0</td>\n",
       "    </tr>\n",
       "  </tbody>\n",
       "</table>\n",
       "</div>"
      ],
      "text/plain": [
       "column       states  transitions  nondet_aut\n",
       "tool                                        \n",
       "LTL3BA       1649.0      10767.0       413.0\n",
       "SPOT-det     1520.0      10051.0       371.0\n",
       "SPOT-small   1519.0      10048.0       372.0\n",
       "LTL3HOA-opt  1248.0       9544.0       357.0\n",
       "LTL3HOA+opt  1225.0       9410.0       342.0\n",
       "VB(TGBA)     1519.0       9870.0       371.0\n",
       "VB(no-opt)   1194.0       8567.0       309.0\n",
       "VB(All)      1183.0       8504.0       299.0"
      ]
     },
     "execution_count": 29,
     "metadata": {},
     "output_type": "execute_result"
    }
   ],
   "source": [
    "row_map={\"LTL3HOA_both_merging\" : 'LTL3HOA-opt',\n",
    "         \"LTL3HOA_both_merging_compl\" : \"LTL3HOA+opt\",\n",
    "         \"VB(no-complement)\" : \"VB(no-opt)\"}\n",
    "t2.rename(row_map,inplace=True); t2"
   ]
  },
  {
   "cell_type": "code",
   "execution_count": 20,
   "metadata": {},
   "outputs": [
    {
     "name": "stdout",
     "output_type": "stream",
     "text": [
      "\\begin{tabular}{lrrr}\n",
      "\\toprule\n",
      "\\textbf{column} &  states &  transitions &  nondet\\_aut \\\\\n",
      "\\textbf{tool       } &         &              &             \\\\\n",
      "\\midrule\n",
      "\\textbf{LTL3BA     } &    1649 &        10767 &         413 \\\\\n",
      "\\textbf{SPOT-det   } &    1520 &        10051 &         371 \\\\\n",
      "\\textbf{SPOT-small } &    1519 &        10048 &         372 \\\\\n",
      "\\textbf{LTL3HOA-opt} &    1248 &         9544 &         357 \\\\\n",
      "\\textbf{LTL3HOA+opt} &    1225 &         9410 &         342 \\\\\n",
      "\\textbf{VB(TGBA)   } &    1519 &         9870 &         371 \\\\\n",
      "\\textbf{VB(no-opt) } &    1194 &         8567 &         309 \\\\\n",
      "\\textbf{VB(All)    } &    1183 &         8504 &         299 \\\\\n",
      "\\bottomrule\n",
      "\\end{tabular}\n",
      "\n"
     ]
    }
   ],
   "source": [
    "print(t2.to_latex(float_format='{:.0f}'.format,bold_rows=True,\n",
    "                 ))#,file=open('lics_t2.tex','w'))"
   ]
  }
 ],
 "metadata": {
  "kernelspec": {
   "display_name": "Python 3",
   "language": "python",
   "name": "python3"
  },
  "language_info": {
   "codemirror_mode": {
    "name": "ipython",
    "version": 3
   },
   "file_extension": ".py",
   "mimetype": "text/x-python",
   "name": "python",
   "nbconvert_exporter": "python",
   "pygments_lexer": "ipython3",
   "version": "3.5.2"
  }
 },
 "nbformat": 4,
 "nbformat_minor": 2
}
