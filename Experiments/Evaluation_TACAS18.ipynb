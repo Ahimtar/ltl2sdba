{
 "cells": [
  {
   "cell_type": "markdown",
   "metadata": {},
   "source": [
    "# Experiments for TACAS'18 - the original (submitted) version\n",
    "- Paper: *LTL to nondeterministic Emerson-Lei Automata*\n",
    "- Authors: *František Blahoudek, Juraj Major, Jan Strejček*"
   ]
  },
  {
   "cell_type": "markdown",
   "metadata": {},
   "source": [
    "## IMPORTANT: ##\n",
    "We have messed up setting of LTL3TELA for its evaluation. In particular, we disabled Spot's reductions by accident and thus we presented worse results than they are in reality. This notebook shows and generates the (incorrect) data used for the submission. The notebook [Evaluation_TACAS18_corrected](Evaluation_TACAS18_corrected.ipynb) contains the results where LTL3TELA uses Spot's automata reductions as claimed in the paper. We appologize for any inconvenience."
   ]
  },
  {
   "cell_type": "code",
   "execution_count": 1,
   "metadata": {
    "collapsed": true
   },
   "outputs": [],
   "source": [
    "from ltlcross_runner import LtlcrossRunner\n",
    "from IPython.display import display\n",
    "import pandas as pd\n",
    "import spot\n",
    "import sys\n",
    "spot.setup(show_default='.a')\n",
    "pd.options.display.float_format = '{: .0f}'.format\n",
    "pd.options.display.latex.multicolumn_format = 'c'"
   ]
  },
  {
   "cell_type": "code",
   "execution_count": 2,
   "metadata": {},
   "outputs": [
    {
     "name": "stdout",
     "output_type": "stream",
     "text": [
      "LTL3BA 1.1.3\n",
      "LTL3TELA 1.1.0\n",
      "ltl2tgba (spot 2.4.1.dev)\n",
      "\n",
      "Copyright (C) 2017  Laboratoire de Recherche et Développement de l'Epita.\n",
      "License GPLv3+: GNU GPL version 3 or later <http://gnu.org/licenses/gpl.html>.\n",
      "This is free software: you are free to change and redistribute it.\n",
      "There is NO WARRANTY, to the extent permitted by law.\n",
      "ltlcross (spot 2.4.1.dev)\n",
      "\n",
      "Copyright (C) 2017  Laboratoire de Recherche et Développement de l'Epita.\n",
      "License GPLv3+: GNU GPL version 3 or later <http://gnu.org/licenses/gpl.html>.\n",
      "This is free software: you are free to change and redistribute it.\n",
      "There is NO WARRANTY, to the extent permitted by law.\n"
     ]
    }
   ],
   "source": [
    "%%bash\n",
    "ltl3ba -v\n",
    "ltl3tela -v\n",
    "ltl2tgba --version\n",
    "ltlcross --version"
   ]
  },
  {
   "cell_type": "code",
   "execution_count": 3,
   "metadata": {
    "collapsed": true
   },
   "outputs": [],
   "source": [
    "# If there are already files with results, and rerun is False, ltlcross is not run again.\n",
    "rerun = False"
   ]
  },
  {
   "cell_type": "markdown",
   "metadata": {},
   "source": [
    "$\\newcommand{\\F}{\\mathsf{F}}$\n",
    "$\\newcommand{\\G}{\\mathsf{G}}$\n",
    "$\\newcommand{\\FG}{\\mathsf{F,G}}$\n",
    "## Formulae\n",
    "We evaluate our translation on randomly generated formulae. We use Spot to generate them. The following function uses spot's randltl to generate and process formulae. It allows to filter the formulae using the function `func` (this feature is not used here) and also removes formulae $\\top$ and $\\bot$. Further, we remove all $\\mathsf{M}$ and $\\mathsf{W}$ operators as LTL3BA does not understand them. The `relabel_bse` function renames $\\G(a \\lor b)$ into $\\G a$ and thus it keeps only on formula of such type."
   ]
  },
  {
   "cell_type": "code",
   "execution_count": 4,
   "metadata": {
    "collapsed": true
   },
   "outputs": [],
   "source": [
    "def generate(n=100,func=(lambda x: True),filename=None,priorities='M=0,W=0,xor=0',ap=['a','b','c','d','e']):\n",
    "    if filename is None:\n",
    "        file_h = sys.stdout\n",
    "    else:\n",
    "        file_h = open(filename,'w')\n",
    "    f = spot.randltl(ap,\n",
    "                     ltl_priorities=priorities,\n",
    "                     simplify=3,tree_size=15).relabel_bse(spot.Abc)\\\n",
    "                     .unabbreviate('WM')\n",
    "    i = 0\n",
    "    printed = set()\n",
    "    while(i < n):\n",
    "        form = next(f)\n",
    "        if form in printed:\n",
    "            continue\n",
    "        if func(form) and not form.is_tt() and not form.is_ff():\n",
    "            print(form,file=file_h)\n",
    "            printed.add(form)\n",
    "            i += 1"
   ]
  },
  {
   "cell_type": "markdown",
   "metadata": {},
   "source": [
    "### Generate Formulae\n",
    "We generate 500 random formulae from the $LTL(\\F,\\G)$ fragment and save them to the file `formulae/fg.ltl`."
   ]
  },
  {
   "cell_type": "code",
   "execution_count": 5,
   "metadata": {
    "collapsed": true
   },
   "outputs": [],
   "source": [
    "fg_f = 'formulae/fg.ltl'\n",
    "!mkdir -p formulae\n",
    "generate(500,filename=fg_f,priorities='xor=0,implies=0,equiv=0,X=0,W=0,M=0,R=0,U=0,F=3,G=3')"
   ]
  },
  {
   "cell_type": "markdown",
   "metadata": {},
   "source": [
    "## Impact of $\\F$- and $\\FG$-merging"
   ]
  },
  {
   "cell_type": "markdown",
   "metadata": {},
   "source": [
    "We compare the $\\F$- and $\\FG$-merging translation to the basic one. We compare the sizes of SLAA (alternating) and TELA (nondeterministic). To really measure the impact of merging, the SPOT's reductions techniques are disabled here (`-u0 -z0`)."
   ]
  },
  {
   "cell_type": "markdown",
   "metadata": {},
   "source": [
    "### Alternating automata"
   ]
  },
  {
   "cell_type": "markdown",
   "metadata": {},
   "source": [
    "Here we use a wrapper script [ltlcross_runner](ltlcross_runner.py) for ltlcross that uses the pandas library to manipulate data. It requires some settings."
   ]
  },
  {
   "cell_type": "code",
   "execution_count": 6,
   "metadata": {
    "collapsed": true
   },
   "outputs": [],
   "source": [
    "### Tools' setting ###\n",
    "ltl3tela_shared = \"ltl3tela -p1 -t0 -u0 -z0 -f %f -a3 -n0 \"\n",
    "end = \" > %O\"\n",
    "tools = {\"FG-merging\"       : ltl3tela_shared + end,\n",
    "         \"FG-merging+compl\" : ltl3tela_shared + \"-n1\" + end,\n",
    "         \"F-merging\"        : ltl3tela_shared + \"-G0\" + end,\n",
    "         \"G-merging\"        : ltl3tela_shared + \"-F0\" + end,\n",
    "         \"basic\"            : ltl3tela_shared + \"-F0 -G0\" + end,\n",
    "        }\n",
    "### Order in which we want to sort the translations\n",
    "MI_order = [\"basic\",\"F-merging\",\n",
    "            \"G-merging\",\"FG-merging\",\n",
    "            \"FG-merging+compl\"]\n",
    "### File with measured statistics ###\n",
    "merging_imp_alt = 'MI_alt.csv'"
   ]
  },
  {
   "cell_type": "markdown",
   "metadata": {},
   "source": [
    "Here we use the `LtlcrossRunner` object to run ltlcross, or parse already computed data."
   ]
  },
  {
   "cell_type": "code",
   "execution_count": 7,
   "metadata": {
    "collapsed": true
   },
   "outputs": [],
   "source": [
    "MI_alt = LtlcrossRunner(tools,res_filename=merging_imp_alt,\n",
    "                        formula_files=[fg_f],\n",
    "                        cols=[\"states\",\"transitions\"])\n",
    "if rerun:\n",
    "    MI_alt.run_ltlcross()\n",
    "MI_alt.parse_results()"
   ]
  },
  {
   "cell_type": "markdown",
   "metadata": {},
   "source": [
    "The cumulative number of states and transitions of all SLAA for each tool. "
   ]
  },
  {
   "cell_type": "code",
   "execution_count": 8,
   "metadata": {},
   "outputs": [
    {
     "data": {
      "text/html": [
       "<div>\n",
       "<style>\n",
       "    .dataframe thead tr:only-child th {\n",
       "        text-align: right;\n",
       "    }\n",
       "\n",
       "    .dataframe thead th {\n",
       "        text-align: left;\n",
       "    }\n",
       "\n",
       "    .dataframe tbody tr th {\n",
       "        vertical-align: top;\n",
       "    }\n",
       "</style>\n",
       "<table border=\"1\" class=\"dataframe\">\n",
       "  <thead>\n",
       "    <tr style=\"text-align: right;\">\n",
       "      <th>column</th>\n",
       "      <th>states</th>\n",
       "      <th>transitions</th>\n",
       "    </tr>\n",
       "    <tr>\n",
       "      <th>tool</th>\n",
       "      <th></th>\n",
       "      <th></th>\n",
       "    </tr>\n",
       "  </thead>\n",
       "  <tbody>\n",
       "    <tr>\n",
       "      <th>basic</th>\n",
       "      <td>2467</td>\n",
       "      <td>18294</td>\n",
       "    </tr>\n",
       "    <tr>\n",
       "      <th>F-merging</th>\n",
       "      <td>1956</td>\n",
       "      <td>14465</td>\n",
       "    </tr>\n",
       "    <tr>\n",
       "      <th>G-merging</th>\n",
       "      <td>1868</td>\n",
       "      <td>13932</td>\n",
       "    </tr>\n",
       "    <tr>\n",
       "      <th>FG-merging</th>\n",
       "      <td>1362</td>\n",
       "      <td>10441</td>\n",
       "    </tr>\n",
       "    <tr>\n",
       "      <th>FG-merging+compl</th>\n",
       "      <td>1362</td>\n",
       "      <td>10441</td>\n",
       "    </tr>\n",
       "  </tbody>\n",
       "</table>\n",
       "</div>"
      ],
      "text/plain": [
       "column            states  transitions\n",
       "tool                                 \n",
       "basic               2467        18294\n",
       "F-merging           1956        14465\n",
       "G-merging           1868        13932\n",
       "FG-merging          1362        10441\n",
       "FG-merging+compl    1362        10441"
      ]
     },
     "execution_count": 8,
     "metadata": {},
     "output_type": "execute_result"
    }
   ],
   "source": [
    "t1_alt = MI_alt.cummulative(col=[\"states\",\"transitions\"]).unstack(level=0).loc[MI_order,:]\n",
    "t1_alt"
   ]
  },
  {
   "cell_type": "markdown",
   "metadata": {},
   "source": [
    "### Nondeterministic automata"
   ]
  },
  {
   "cell_type": "code",
   "execution_count": 9,
   "metadata": {
    "collapsed": true
   },
   "outputs": [],
   "source": [
    "### Tools' setting ###\n",
    "ltl3tela_shared = \"ltl3tela -p2 -s0 -u0 -z0 -f %f -a3 -n0 \"\n",
    "end = \" > %O\"\n",
    "tools = {\"FG-merging\"       : ltl3tela_shared + end,\n",
    "         \"FG-merging+compl\" : ltl3tela_shared + \"-n1\" + end,\n",
    "         \"F-merging\"        : ltl3tela_shared + \"-G0\" + end,\n",
    "         \"G-merging\"        : ltl3tela_shared + \"-F0\" + end,\n",
    "         \"basic\"            : ltl3tela_shared + \"-F0 -G0\" + end,\n",
    "        }\n",
    "### File with measured statistics ###\n",
    "merging_imp = 'MI_nondet.csv'\n",
    "cols=[\"states\",\"transitions\",\"nondet_aut\"]"
   ]
  },
  {
   "cell_type": "code",
   "execution_count": 10,
   "metadata": {
    "collapsed": true
   },
   "outputs": [],
   "source": [
    "MI_nondet = LtlcrossRunner(tools,res_filename=merging_imp,\n",
    "                           formula_files=[fg_f],\n",
    "                           cols=cols)\n",
    "if rerun:\n",
    "    MI_nondet.run_ltlcross()\n",
    "MI_nondet.parse_results()"
   ]
  },
  {
   "cell_type": "markdown",
   "metadata": {},
   "source": [
    "Here are the cumulative number of states, transitions, and number of deterministic automata for each translation. "
   ]
  },
  {
   "cell_type": "code",
   "execution_count": 11,
   "metadata": {},
   "outputs": [
    {
     "data": {
      "text/html": [
       "<div>\n",
       "<style>\n",
       "    .dataframe thead tr:only-child th {\n",
       "        text-align: right;\n",
       "    }\n",
       "\n",
       "    .dataframe thead th {\n",
       "        text-align: left;\n",
       "    }\n",
       "\n",
       "    .dataframe tbody tr th {\n",
       "        vertical-align: top;\n",
       "    }\n",
       "</style>\n",
       "<table border=\"1\" class=\"dataframe\">\n",
       "  <thead>\n",
       "    <tr style=\"text-align: right;\">\n",
       "      <th>column</th>\n",
       "      <th>states</th>\n",
       "      <th>transitions</th>\n",
       "      <th>det. aut.</th>\n",
       "    </tr>\n",
       "    <tr>\n",
       "      <th>tool</th>\n",
       "      <th></th>\n",
       "      <th></th>\n",
       "      <th></th>\n",
       "    </tr>\n",
       "  </thead>\n",
       "  <tbody>\n",
       "    <tr>\n",
       "      <th>basic</th>\n",
       "      <td>1732</td>\n",
       "      <td>12289</td>\n",
       "      <td>70</td>\n",
       "    </tr>\n",
       "    <tr>\n",
       "      <th>F-merging</th>\n",
       "      <td>1534</td>\n",
       "      <td>12313</td>\n",
       "      <td>147</td>\n",
       "    </tr>\n",
       "    <tr>\n",
       "      <th>G-merging</th>\n",
       "      <td>1745</td>\n",
       "      <td>12378</td>\n",
       "      <td>66</td>\n",
       "    </tr>\n",
       "    <tr>\n",
       "      <th>FG-merging</th>\n",
       "      <td>1251</td>\n",
       "      <td>9588</td>\n",
       "      <td>142</td>\n",
       "    </tr>\n",
       "    <tr>\n",
       "      <th>FG-merging+compl</th>\n",
       "      <td>1238</td>\n",
       "      <td>9522</td>\n",
       "      <td>149</td>\n",
       "    </tr>\n",
       "  </tbody>\n",
       "</table>\n",
       "</div>"
      ],
      "text/plain": [
       "column            states  transitions  det. aut.\n",
       "tool                                            \n",
       "basic               1732        12289         70\n",
       "F-merging           1534        12313        147\n",
       "G-merging           1745        12378         66\n",
       "FG-merging          1251         9588        142\n",
       "FG-merging+compl    1238         9522        149"
      ]
     },
     "execution_count": 11,
     "metadata": {},
     "output_type": "execute_result"
    }
   ],
   "source": [
    "tmp = MI_nondet.cummulative(col=cols).unstack(level=0).loc[MI_order,cols]\n",
    "t1_nondet = tmp.loc[:,['states','transitions']]\n",
    "t1_nondet[\"det. aut.\"] = 500-tmp.nondet_aut\n",
    "t1_nondet"
   ]
  },
  {
   "cell_type": "markdown",
   "metadata": {},
   "source": [
    "We merge the two tables and format the table labels for latex output."
   ]
  },
  {
   "cell_type": "code",
   "execution_count": 12,
   "metadata": {},
   "outputs": [
    {
     "data": {
      "text/html": [
       "<div>\n",
       "<style>\n",
       "    .dataframe thead tr:only-child th {\n",
       "        text-align: right;\n",
       "    }\n",
       "\n",
       "    .dataframe thead th {\n",
       "        text-align: left;\n",
       "    }\n",
       "\n",
       "    .dataframe tbody tr th {\n",
       "        vertical-align: top;\n",
       "    }\n",
       "</style>\n",
       "<table border=\"1\" class=\"dataframe\">\n",
       "  <thead>\n",
       "    <tr>\n",
       "      <th></th>\n",
       "      <th colspan=\"2\" halign=\"left\">SLAA (alternating)</th>\n",
       "      <th colspan=\"3\" halign=\"left\">TELA(nondeterministic)</th>\n",
       "    </tr>\n",
       "    <tr>\n",
       "      <th>column</th>\n",
       "      <th>states</th>\n",
       "      <th>transitions</th>\n",
       "      <th>states</th>\n",
       "      <th>transitions</th>\n",
       "      <th>det. aut.</th>\n",
       "    </tr>\n",
       "    <tr>\n",
       "      <th>tool</th>\n",
       "      <th></th>\n",
       "      <th></th>\n",
       "      <th></th>\n",
       "      <th></th>\n",
       "      <th></th>\n",
       "    </tr>\n",
       "  </thead>\n",
       "  <tbody>\n",
       "    <tr>\n",
       "      <th>basic</th>\n",
       "      <td>2467</td>\n",
       "      <td>18294</td>\n",
       "      <td>1732</td>\n",
       "      <td>12289</td>\n",
       "      <td>70</td>\n",
       "    </tr>\n",
       "    <tr>\n",
       "      <th>F-merging</th>\n",
       "      <td>1956</td>\n",
       "      <td>14465</td>\n",
       "      <td>1534</td>\n",
       "      <td>12313</td>\n",
       "      <td>147</td>\n",
       "    </tr>\n",
       "    <tr>\n",
       "      <th>G-merging</th>\n",
       "      <td>1868</td>\n",
       "      <td>13932</td>\n",
       "      <td>1745</td>\n",
       "      <td>12378</td>\n",
       "      <td>66</td>\n",
       "    </tr>\n",
       "    <tr>\n",
       "      <th>FG-merging</th>\n",
       "      <td>1362</td>\n",
       "      <td>10441</td>\n",
       "      <td>1251</td>\n",
       "      <td>9588</td>\n",
       "      <td>142</td>\n",
       "    </tr>\n",
       "    <tr>\n",
       "      <th>FG-merging+compl</th>\n",
       "      <td>1362</td>\n",
       "      <td>10441</td>\n",
       "      <td>1238</td>\n",
       "      <td>9522</td>\n",
       "      <td>149</td>\n",
       "    </tr>\n",
       "  </tbody>\n",
       "</table>\n",
       "</div>"
      ],
      "text/plain": [
       "                 SLAA (alternating)             TELA(nondeterministic)  \\\n",
       "column                       states transitions                 states   \n",
       "tool                                                                     \n",
       "basic                          2467       18294                   1732   \n",
       "F-merging                      1956       14465                   1534   \n",
       "G-merging                      1868       13932                   1745   \n",
       "FG-merging                     1362       10441                   1251   \n",
       "FG-merging+compl               1362       10441                   1238   \n",
       "\n",
       "                                        \n",
       "column           transitions det. aut.  \n",
       "tool                                    \n",
       "basic                  12289        70  \n",
       "F-merging              12313       147  \n",
       "G-merging              12378        66  \n",
       "FG-merging              9588       142  \n",
       "FG-merging+compl        9522       149  "
      ]
     },
     "execution_count": 12,
     "metadata": {},
     "output_type": "execute_result"
    }
   ],
   "source": [
    "t1 = pd.concat([t1_alt,t1_nondet],axis=1,keys=['SLAA (alternating)','TELA(nondeterministic)']).loc[MI_order,:]\n",
    "t1"
   ]
  },
  {
   "cell_type": "code",
   "execution_count": 13,
   "metadata": {
    "collapsed": true
   },
   "outputs": [
    {
     "data": {
      "text/html": [
       "<div>\n",
       "<style>\n",
       "    .dataframe thead tr:only-child th {\n",
       "        text-align: right;\n",
       "    }\n",
       "\n",
       "    .dataframe thead th {\n",
       "        text-align: left;\n",
       "    }\n",
       "\n",
       "    .dataframe tbody tr th {\n",
       "        vertical-align: top;\n",
       "    }\n",
       "</style>\n",
       "<table border=\"1\" class=\"dataframe\">\n",
       "  <thead>\n",
       "    <tr>\n",
       "      <th></th>\n",
       "      <th colspan=\"2\" halign=\"left\">SLAA (alternating)</th>\n",
       "      <th colspan=\"3\" halign=\"left\">TELA(nondeterministic)</th>\n",
       "    </tr>\n",
       "    <tr>\n",
       "      <th>translation</th>\n",
       "      <th>states</th>\n",
       "      <th>transitions</th>\n",
       "      <th>states</th>\n",
       "      <th>transitions</th>\n",
       "      <th>det. aut.</th>\n",
       "    </tr>\n",
       "  </thead>\n",
       "  <tbody>\n",
       "    <tr>\n",
       "      <th>basic translation</th>\n",
       "      <td>2467</td>\n",
       "      <td>18294</td>\n",
       "      <td>1732</td>\n",
       "      <td>12289</td>\n",
       "      <td>70</td>\n",
       "    </tr>\n",
       "    <tr>\n",
       "      <th>$\\F$-merging</th>\n",
       "      <td>1956</td>\n",
       "      <td>14465</td>\n",
       "      <td>1534</td>\n",
       "      <td>12313</td>\n",
       "      <td>147</td>\n",
       "    </tr>\n",
       "    <tr>\n",
       "      <th>$\\G$-merging</th>\n",
       "      <td>1868</td>\n",
       "      <td>13932</td>\n",
       "      <td>1745</td>\n",
       "      <td>12378</td>\n",
       "      <td>66</td>\n",
       "    </tr>\n",
       "    <tr>\n",
       "      <th>$\\FG$-merging</th>\n",
       "      <td>1362</td>\n",
       "      <td>10441</td>\n",
       "      <td>1251</td>\n",
       "      <td>9588</td>\n",
       "      <td>142</td>\n",
       "    </tr>\n",
       "    <tr>\n",
       "      <th>$\\FG$-merging + complement</th>\n",
       "      <td>1362</td>\n",
       "      <td>10441</td>\n",
       "      <td>1238</td>\n",
       "      <td>9522</td>\n",
       "      <td>149</td>\n",
       "    </tr>\n",
       "  </tbody>\n",
       "</table>\n",
       "</div>"
      ],
      "text/plain": [
       "                           SLAA (alternating)              \\\n",
       "translation                            states transitions   \n",
       "basic translation                        2467       18294   \n",
       "$\\F$-merging                             1956       14465   \n",
       "$\\G$-merging                             1868       13932   \n",
       "$\\FG$-merging                            1362       10441   \n",
       "$\\FG$-merging + complement               1362       10441   \n",
       "\n",
       "                           TELA(nondeterministic)                        \n",
       "translation                                states transitions det. aut.  \n",
       "basic translation                            1732       12289        70  \n",
       "$\\F$-merging                                 1534       12313       147  \n",
       "$\\G$-merging                                 1745       12378        66  \n",
       "$\\FG$-merging                                1251        9588       142  \n",
       "$\\FG$-merging + complement                   1238        9522       149  "
      ]
     },
     "execution_count": 13,
     "metadata": {},
     "output_type": "execute_result"
    }
   ],
   "source": [
    "row_map={\"basic\"            : 'basic translation',\n",
    "         \"F-merging\"        : '$\\F$-merging',\n",
    "         \"G-merging\"        : '$\\G$-merging',\n",
    "         \"FG-merging\"       : '$\\FG$-merging',\n",
    "         \"FG-merging+compl\" : \"$\\FG$-merging + complement\"}\n",
    "t1.rename(row_map,inplace=True);\n",
    "t1 = t1.rename_axis(['',\"translation\"],axis=1)\n",
    "t1.index.name = None\n",
    "t1"
   ]
  },
  {
   "cell_type": "code",
   "execution_count": 14,
   "metadata": {
    "collapsed": true
   },
   "outputs": [
    {
     "name": "stdout",
     "output_type": "stream",
     "text": [
      "\\begin{tabular}{lrrrrr}\n",
      "\\toprule\n",
      "{} & \\multicolumn{2}{c}{SLAA (alternating)} & \\multicolumn{3}{c}{TELA(nondeterministic)} \\\\\n",
      "\\textbf{translation} &             states & transitions &                 states & transitions & det. aut. \\\\\n",
      "\\midrule\n",
      "\\textbf{basic translation         } &               2467 &       18294 &                   1732 &       12289 &        70 \\\\\n",
      "\\textbf{$\\F$-merging              } &               1956 &       14465 &                   1534 &       12313 &       147 \\\\\n",
      "\\textbf{$\\G$-merging              } &               1868 &       13932 &                   1745 &       12378 &        66 \\\\\n",
      "\\textbf{$\\FG$-merging             } &               1362 &       10441 &                   1251 &        9588 &       142 \\\\\n",
      "\\textbf{$\\FG$-merging + complement} &               1362 &       10441 &                   1238 &        9522 &       149 \\\\\n",
      "\\bottomrule\n",
      "\\end{tabular}\n",
      "\n"
     ]
    }
   ],
   "source": [
    "print(t1.to_latex(escape=False,bold_rows=True))\n",
    "print(t1.to_latex(escape=False,bold_rows=True),file=open('tacas_t1.tex','w'))"
   ]
  },
  {
   "cell_type": "markdown",
   "metadata": {},
   "source": [
    "## Comparison with LTL to TGBA translators"
   ]
  },
  {
   "cell_type": "markdown",
   "metadata": {},
   "source": [
    "We compare LTL3TELA with $\\FG$-merging and the complement optimization to Spot and LTL3BA. We use the same set of formulae as before."
   ]
  },
  {
   "cell_type": "markdown",
   "metadata": {},
   "source": [
    "### Nondeterministic automata"
   ]
  },
  {
   "cell_type": "code",
   "execution_count": 15,
   "metadata": {
    "collapsed": true
   },
   "outputs": [],
   "source": [
    "### Tools' setting ###\n",
    "ltl3tela_shared = \"ltl3tela -p2 -f %f -a3 -n0 \"\n",
    "end = \" > %O\"\n",
    "tools = {\"LTL3TELA\"       : ltl3tela_shared + end,\n",
    "         \"LTL3TELA+compl\" : ltl3tela_shared + \"-n1 \" + end,\n",
    "         \"LTL3BA\"         : 'ltl3ba -H2 -f %s | autfilt --small > %O',         \n",
    "         \"SPOT-det\"       : 'ltl2tgba --deterministic -H %f>%O',\n",
    "         \"SPOT-small\"     : 'ltl2tgba --small -H %f>%O',\n",
    "        }\n",
    "tgba = [\"LTL3BA\",\"SPOT-det\",\"SPOT-small\"]\n",
    "### File with measured statistics ###\n",
    "comp_res = 'comp_nondet.csv'"
   ]
  },
  {
   "cell_type": "code",
   "execution_count": 16,
   "metadata": {
    "collapsed": true
   },
   "outputs": [],
   "source": [
    "comp = LtlcrossRunner(tools,res_filename=comp_res,\n",
    "                           formula_files=[fg_f],\n",
    "                           cols=cols)\n",
    "if rerun:\n",
    "    comp.run_ltlcross()\n",
    "comp.parse_results()"
   ]
  },
  {
   "cell_type": "markdown",
   "metadata": {},
   "source": [
    "We compute the cummulative numbers for each category (stored in cols) and we shape the data into nice table."
   ]
  },
  {
   "cell_type": "code",
   "execution_count": 17,
   "metadata": {},
   "outputs": [
    {
     "data": {
      "text/html": [
       "<div>\n",
       "<style>\n",
       "    .dataframe thead tr:only-child th {\n",
       "        text-align: right;\n",
       "    }\n",
       "\n",
       "    .dataframe thead th {\n",
       "        text-align: left;\n",
       "    }\n",
       "\n",
       "    .dataframe tbody tr th {\n",
       "        vertical-align: top;\n",
       "    }\n",
       "</style>\n",
       "<table border=\"1\" class=\"dataframe\">\n",
       "  <thead>\n",
       "    <tr style=\"text-align: right;\">\n",
       "      <th>column</th>\n",
       "      <th>states</th>\n",
       "      <th>transitions</th>\n",
       "      <th>deterministic</th>\n",
       "    </tr>\n",
       "    <tr>\n",
       "      <th>tool</th>\n",
       "      <th></th>\n",
       "      <th></th>\n",
       "      <th></th>\n",
       "    </tr>\n",
       "  </thead>\n",
       "  <tbody>\n",
       "    <tr>\n",
       "      <th>LTL3BA</th>\n",
       "      <td>1649</td>\n",
       "      <td>10767</td>\n",
       "      <td>87</td>\n",
       "    </tr>\n",
       "    <tr>\n",
       "      <th>SPOT-det</th>\n",
       "      <td>1520</td>\n",
       "      <td>10051</td>\n",
       "      <td>129</td>\n",
       "    </tr>\n",
       "    <tr>\n",
       "      <th>SPOT-small</th>\n",
       "      <td>1519</td>\n",
       "      <td>10048</td>\n",
       "      <td>128</td>\n",
       "    </tr>\n",
       "    <tr>\n",
       "      <th>LTL3TELA</th>\n",
       "      <td>1248</td>\n",
       "      <td>9544</td>\n",
       "      <td>143</td>\n",
       "    </tr>\n",
       "    <tr>\n",
       "      <th>LTL3TELA+compl</th>\n",
       "      <td>1225</td>\n",
       "      <td>9410</td>\n",
       "      <td>158</td>\n",
       "    </tr>\n",
       "  </tbody>\n",
       "</table>\n",
       "</div>"
      ],
      "text/plain": [
       "column          states  transitions  deterministic\n",
       "tool                                              \n",
       "LTL3BA            1649        10767             87\n",
       "SPOT-det          1520        10051            129\n",
       "SPOT-small        1519        10048            128\n",
       "LTL3TELA          1248         9544            143\n",
       "LTL3TELA+compl    1225         9410            158"
      ]
     },
     "execution_count": 17,
     "metadata": {},
     "output_type": "execute_result"
    }
   ],
   "source": [
    "tmp = comp.cummulative(col=cols).unstack(level=0)\n",
    "tmp = tmp.loc[tgba+['LTL3TELA',\"LTL3TELA+compl\"]+comp.mins,:][cols]\n",
    "tmp2 = tmp.loc[:,['states','transitions']]\n",
    "tmp2[\"deterministic\"] = 500-tmp.nondet_aut\n",
    "tmp2"
   ]
  },
  {
   "cell_type": "markdown",
   "metadata": {},
   "source": [
    "For the paper, we choose only one configuration for each tool we do not use the virtual tools at all. Again, we create nicer labels."
   ]
  },
  {
   "cell_type": "code",
   "execution_count": 18,
   "metadata": {},
   "outputs": [
    {
     "data": {
      "text/html": [
       "<div>\n",
       "<style>\n",
       "    .dataframe thead tr:only-child th {\n",
       "        text-align: right;\n",
       "    }\n",
       "\n",
       "    .dataframe thead th {\n",
       "        text-align: left;\n",
       "    }\n",
       "\n",
       "    .dataframe tbody tr th {\n",
       "        vertical-align: top;\n",
       "    }\n",
       "</style>\n",
       "<table border=\"1\" class=\"dataframe\">\n",
       "  <thead>\n",
       "    <tr style=\"text-align: right;\">\n",
       "      <th>tool</th>\n",
       "      <th>states</th>\n",
       "      <th>transitions</th>\n",
       "      <th>deterministic</th>\n",
       "    </tr>\n",
       "  </thead>\n",
       "  <tbody>\n",
       "    <tr>\n",
       "      <th>LTL3BA</th>\n",
       "      <td>1649</td>\n",
       "      <td>10767</td>\n",
       "      <td>87</td>\n",
       "    </tr>\n",
       "    <tr>\n",
       "      <th>SPOT</th>\n",
       "      <td>1519</td>\n",
       "      <td>10048</td>\n",
       "      <td>128</td>\n",
       "    </tr>\n",
       "    <tr>\n",
       "      <th>LTL3TELA</th>\n",
       "      <td>1225</td>\n",
       "      <td>9410</td>\n",
       "      <td>158</td>\n",
       "    </tr>\n",
       "  </tbody>\n",
       "</table>\n",
       "</div>"
      ],
      "text/plain": [
       "tool      states  transitions  deterministic\n",
       "LTL3BA      1649        10767             87\n",
       "SPOT        1519        10048            128\n",
       "LTL3TELA    1225         9410            158"
      ]
     },
     "execution_count": 18,
     "metadata": {},
     "output_type": "execute_result"
    }
   ],
   "source": [
    "# Rename\n",
    "paper_tools = ['LTL3BA','SPOT-small','LTL3TELA+compl']\n",
    "row_map = {\n",
    "  'LTL3BA'      : 'LTL3BA',  \n",
    "  'SPOT-small'  : 'SPOT',\n",
    "  'LTL3TELA+compl': 'LTL3TELA'\n",
    "}\n",
    "t2 = tmp2.loc[paper_tools].rename(row_map)\n",
    "# Get rid of the label for columns and keep `tool` only\n",
    "t2 = t2.rename_axis(\"tool\",axis=1)\n",
    "t2.index.name=None\n",
    "t2"
   ]
  },
  {
   "cell_type": "code",
   "execution_count": 19,
   "metadata": {},
   "outputs": [
    {
     "name": "stdout",
     "output_type": "stream",
     "text": [
      "\\begin{tabular}{lrrr}\n",
      "\\toprule\n",
      "\\textbf{tool} &  states &  transitions &  deterministic \\\\\n",
      "\\midrule\n",
      "\\textbf{LTL3BA  } &    1649 &        10767 &             87 \\\\\n",
      "\\textbf{SPOT    } &    1519 &        10048 &            128 \\\\\n",
      "\\textbf{LTL3TELA} &    1225 &         9410 &            158 \\\\\n",
      "\\bottomrule\n",
      "\\end{tabular}\n",
      "\n"
     ]
    }
   ],
   "source": [
    "print(t2.to_latex(bold_rows=True))\n",
    "print(t2.to_latex(bold_rows=True),file=open('tacas_t2.tex','w'))"
   ]
  },
  {
   "cell_type": "markdown",
   "metadata": {},
   "source": [
    "## Additional evaluation"
   ]
  },
  {
   "cell_type": "markdown",
   "metadata": {},
   "source": [
    "We evaluate LTL3TELA also on formulae outside the fragment LTL($\\F$,$\\G$). However, we pick formulae where at least some $\\F$-merging can apply."
   ]
  },
  {
   "cell_type": "code",
   "execution_count": 20,
   "metadata": {
    "collapsed": true
   },
   "outputs": [],
   "source": [
    "from experiments_lib import has_f_merging\n",
    "mergable_f = 'formulae/merge.ltl'\n",
    "generate(500,has_f_merging,filename=mergable_f)"
   ]
  },
  {
   "cell_type": "markdown",
   "metadata": {},
   "source": [
    "We reuse the settings from the above experiments, namely tools' configurations, their order, and columns to follow."
   ]
  },
  {
   "cell_type": "code",
   "execution_count": 21,
   "metadata": {
    "collapsed": true
   },
   "outputs": [],
   "source": [
    "merge = LtlcrossRunner(tools,res_filename='merge.csv',\n",
    "                           formula_files=[mergable_f],\n",
    "                           cols=cols)\n",
    "if rerun:\n",
    "    merge.run_ltlcross()\n",
    "merge.parse_results()"
   ]
  },
  {
   "cell_type": "markdown",
   "metadata": {},
   "source": [
    "We compute the values for Virtual Best (VB) translators. A VB is a virtual tool that would run a set of tools on a given formula and returned an automaton with the minimal number of states, transitions, or nondeterministic states. `VB(TGBA)` runs all LTL to TGBA translators, `VB(All)` chooses from all tools (including LTL3TELA)."
   ]
  },
  {
   "cell_type": "code",
   "execution_count": 22,
   "metadata": {},
   "outputs": [],
   "source": [
    "merge.compute_best(tgba,'VB(TGBA)')\n",
    "merge.compute_best(None,'VB(All)')"
   ]
  },
  {
   "cell_type": "markdown",
   "metadata": {},
   "source": [
    "We also compute the cummulative numbers for each category (stored in cols) and we shape the data into nice table."
   ]
  },
  {
   "cell_type": "code",
   "execution_count": 23,
   "metadata": {},
   "outputs": [
    {
     "data": {
      "text/html": [
       "<div>\n",
       "<style>\n",
       "    .dataframe thead tr:only-child th {\n",
       "        text-align: right;\n",
       "    }\n",
       "\n",
       "    .dataframe thead th {\n",
       "        text-align: left;\n",
       "    }\n",
       "\n",
       "    .dataframe tbody tr th {\n",
       "        vertical-align: top;\n",
       "    }\n",
       "</style>\n",
       "<table border=\"1\" class=\"dataframe\">\n",
       "  <thead>\n",
       "    <tr style=\"text-align: right;\">\n",
       "      <th>column</th>\n",
       "      <th>states</th>\n",
       "      <th>transitions</th>\n",
       "      <th>deterministic</th>\n",
       "    </tr>\n",
       "    <tr>\n",
       "      <th>tool</th>\n",
       "      <th></th>\n",
       "      <th></th>\n",
       "      <th></th>\n",
       "    </tr>\n",
       "  </thead>\n",
       "  <tbody>\n",
       "    <tr>\n",
       "      <th>LTL3BA</th>\n",
       "      <td>2826</td>\n",
       "      <td>23135</td>\n",
       "      <td>17</td>\n",
       "    </tr>\n",
       "    <tr>\n",
       "      <th>SPOT-det</th>\n",
       "      <td>2730</td>\n",
       "      <td>23095</td>\n",
       "      <td>33</td>\n",
       "    </tr>\n",
       "    <tr>\n",
       "      <th>SPOT-small</th>\n",
       "      <td>2728</td>\n",
       "      <td>23086</td>\n",
       "      <td>31</td>\n",
       "    </tr>\n",
       "    <tr>\n",
       "      <th>LTL3TELA</th>\n",
       "      <td>2611</td>\n",
       "      <td>24247</td>\n",
       "      <td>101</td>\n",
       "    </tr>\n",
       "    <tr>\n",
       "      <th>LTL3TELA+compl</th>\n",
       "      <td>2486</td>\n",
       "      <td>23412</td>\n",
       "      <td>128</td>\n",
       "    </tr>\n",
       "    <tr>\n",
       "      <th>VB(TGBA)</th>\n",
       "      <td>2724</td>\n",
       "      <td>22556</td>\n",
       "      <td>33</td>\n",
       "    </tr>\n",
       "    <tr>\n",
       "      <th>VB(All)</th>\n",
       "      <td>2313</td>\n",
       "      <td>20223</td>\n",
       "      <td>142</td>\n",
       "    </tr>\n",
       "  </tbody>\n",
       "</table>\n",
       "</div>"
      ],
      "text/plain": [
       "column          states  transitions  deterministic\n",
       "tool                                              \n",
       "LTL3BA            2826        23135             17\n",
       "SPOT-det          2730        23095             33\n",
       "SPOT-small        2728        23086             31\n",
       "LTL3TELA          2611        24247            101\n",
       "LTL3TELA+compl    2486        23412            128\n",
       "VB(TGBA)          2724        22556             33\n",
       "VB(All)           2313        20223            142"
      ]
     },
     "execution_count": 23,
     "metadata": {},
     "output_type": "execute_result"
    }
   ],
   "source": [
    "tmp = merge.cummulative(col=cols).unstack(level=0)\n",
    "tmp = tmp.loc[tgba+['LTL3TELA',\"LTL3TELA+compl\"]+merge.mins,:][cols]\n",
    "tmp2 = tmp.loc[:,['states','transitions']]\n",
    "tmp2[\"deterministic\"] = 500-tmp.nondet_aut\n",
    "tmp2"
   ]
  },
  {
   "cell_type": "markdown",
   "metadata": {},
   "source": [
    "We can conclude that on general formulae with at least some merging the advantage of merging is not that dramatic as in case of formulae from LTL($\\F$,$\\G$). We can also observe more impact delivered by the complement optimization (For a formula $\\varphi$ we translate both $\\varphi$ and $\\neg\\varphi$. In case that the automaton for $\\neg\\varphi$ is deterministic and smaller, we can complement its acceptance formula to get automaton for $\\varphi$)."
   ]
  }
 ],
 "metadata": {
  "kernelspec": {
   "display_name": "Python 3",
   "language": "python",
   "name": "python3"
  },
  "language_info": {
   "codemirror_mode": {
    "name": "ipython",
    "version": 3
   },
   "file_extension": ".py",
   "mimetype": "text/x-python",
   "name": "python",
   "nbconvert_exporter": "python",
   "pygments_lexer": "ipython3",
   "version": "3.4.3"
  }
 },
 "nbformat": 4,
 "nbformat_minor": 2
}
